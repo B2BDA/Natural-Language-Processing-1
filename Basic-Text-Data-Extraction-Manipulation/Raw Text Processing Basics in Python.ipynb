{
 "cells": [
  {
   "cell_type": "markdown",
   "metadata": {},
   "source": [
    "# Creating a String in Python"
   ]
  },
  {
   "cell_type": "code",
   "execution_count": 1,
   "metadata": {},
   "outputs": [
    {
     "name": "stdout",
     "output_type": "stream",
     "text": [
      "Hello, This is me!\n"
     ]
    }
   ],
   "source": [
    "str_1 = 'Hello, This is me!' \n",
    "print(str_1)"
   ]
  },
  {
   "cell_type": "code",
   "execution_count": 2,
   "metadata": {},
   "outputs": [
    {
     "name": "stdout",
     "output_type": "stream",
     "text": [
      "Hello, This is me!\n"
     ]
    }
   ],
   "source": [
    "str_2 = \"Hello, This is me!\"\n",
    "print(str_2)"
   ]
  },
  {
   "cell_type": "markdown",
   "metadata": {},
   "source": [
    "## Using Triple Quotes in Python"
   ]
  },
  {
   "cell_type": "code",
   "execution_count": 7,
   "metadata": {},
   "outputs": [
    {
     "name": "stdout",
     "output_type": "stream",
     "text": [
      "Hello, This is me!\n"
     ]
    }
   ],
   "source": [
    "str_3 = '''Hello, This is me!'''\n",
    "print(str_3)\n",
    "# can be used simply ,but"
   ]
  },
  {
   "cell_type": "code",
   "execution_count": 9,
   "metadata": {},
   "outputs": [
    {
     "name": "stdout",
     "output_type": "stream",
     "text": [
      "Hi\n",
      "I can give\n",
      "line breaks here too\n"
     ]
    }
   ],
   "source": [
    "str_4 = '''Hi\n",
    "I can give\n",
    "line breaks here too'''\n",
    "print(str_4)"
   ]
  },
  {
   "cell_type": "code",
   "execution_count": 10,
   "metadata": {},
   "outputs": [
    {
     "ename": "SyntaxError",
     "evalue": "EOL while scanning string literal (<ipython-input-10-ad0c664ed28b>, line 1)",
     "output_type": "error",
     "traceback": [
      "\u001b[0;36m  File \u001b[0;32m\"<ipython-input-10-ad0c664ed28b>\"\u001b[0;36m, line \u001b[0;32m1\u001b[0m\n\u001b[0;31m    str_4 = 'But I can not\u001b[0m\n\u001b[0m                           ^\u001b[0m\n\u001b[0;31mSyntaxError\u001b[0m\u001b[0;31m:\u001b[0m EOL while scanning string literal\n"
     ]
    }
   ],
   "source": [
    "str_4 = 'But I can not \n",
    "give them here'\n",
    "print(str_4)"
   ]
  },
  {
   "cell_type": "code",
   "execution_count": 11,
   "metadata": {},
   "outputs": [
    {
     "name": "stdout",
     "output_type": "stream",
     "text": [
      "Hey there\n",
      "Hope you're not doing fine\n",
      "but AWESOME\n"
     ]
    }
   ],
   "source": [
    "str_5 = \"\"\"Hey there\n",
    "Hope you're not doing fine\n",
    "but AWESOME\"\"\"\n",
    "print(str_5)"
   ]
  },
  {
   "cell_type": "markdown",
   "metadata": {},
   "source": [
    "## So basically\n",
    "### single/double quotes - Basic single line strings , new lines can not be created\n",
    "### triple quotes - used for Multi line strings or Doc Strings"
   ]
  },
  {
   "cell_type": "markdown",
   "metadata": {},
   "source": [
    "## How then"
   ]
  },
  {
   "cell_type": "code",
   "execution_count": 15,
   "metadata": {},
   "outputs": [
    {
     "name": "stdout",
     "output_type": "stream",
     "text": [
      "Hi there\n",
      "Now I can change the lines\n",
      "and also\t TAB in it\n"
     ]
    }
   ],
   "source": [
    "str_6 = 'Hi there\\nNow I can change the lines\\nand also\\t TAB in it'\n",
    "print(str_6)\n",
    "# same for double quotes\n",
    "# \\n , \\t called escape sequences"
   ]
  },
  {
   "cell_type": "code",
   "execution_count": 18,
   "metadata": {},
   "outputs": [
    {
     "name": "stdout",
     "output_type": "stream",
     "text": [
      "Hi there\\nNow I can change the lines\\nand also\\t TAB in it\n"
     ]
    }
   ],
   "source": [
    "# To avoid escape sequences make strings RAW\n",
    "str_7 = r'Hi there\\nNow I can change the lines\\nand also\\t TAB in it'\n",
    "print(str_7)\n",
    "# Python ignores escape sequences when given a r - (Raw String) at the beginning"
   ]
  },
  {
   "cell_type": "code",
   "execution_count": null,
   "metadata": {},
   "outputs": [],
   "source": []
  },
  {
   "cell_type": "markdown",
   "metadata": {},
   "source": [
    "# Accessing Strings"
   ]
  },
  {
   "cell_type": "code",
   "execution_count": 19,
   "metadata": {},
   "outputs": [],
   "source": [
    "str_1 = 'The Name is Bond, James Bond!'"
   ]
  },
  {
   "cell_type": "code",
   "execution_count": 20,
   "metadata": {},
   "outputs": [
    {
     "data": {
      "text/plain": [
       "'T'"
      ]
     },
     "execution_count": 20,
     "metadata": {},
     "output_type": "execute_result"
    }
   ],
   "source": [
    "str_1[0]"
   ]
  },
  {
   "cell_type": "code",
   "execution_count": 21,
   "metadata": {},
   "outputs": [
    {
     "data": {
      "text/plain": [
       "'!'"
      ]
     },
     "execution_count": 21,
     "metadata": {},
     "output_type": "execute_result"
    }
   ],
   "source": [
    "str_1[-1]"
   ]
  },
  {
   "cell_type": "code",
   "execution_count": 22,
   "metadata": {},
   "outputs": [
    {
     "data": {
      "text/plain": [
       "'Name'"
      ]
     },
     "execution_count": 22,
     "metadata": {},
     "output_type": "execute_result"
    }
   ],
   "source": [
    "str_1[4:8]"
   ]
  },
  {
   "cell_type": "code",
   "execution_count": 25,
   "metadata": {},
   "outputs": [
    {
     "data": {
      "text/plain": [
       "' is Bond, Jam'"
      ]
     },
     "execution_count": 25,
     "metadata": {},
     "output_type": "execute_result"
    }
   ],
   "source": [
    "str_1[8:-8]"
   ]
  },
  {
   "cell_type": "code",
   "execution_count": 26,
   "metadata": {},
   "outputs": [
    {
     "data": {
      "text/plain": [
       "'TeNm sBn,JmsBn!'"
      ]
     },
     "execution_count": 26,
     "metadata": {},
     "output_type": "execute_result"
    }
   ],
   "source": [
    "str_1[0:len(str_1):2]"
   ]
  },
  {
   "cell_type": "markdown",
   "metadata": {},
   "source": [
    "# Delete a String "
   ]
  },
  {
   "cell_type": "code",
   "execution_count": 27,
   "metadata": {},
   "outputs": [],
   "source": [
    "del str_1"
   ]
  },
  {
   "cell_type": "markdown",
   "metadata": {},
   "source": [
    "# String Operations"
   ]
  },
  {
   "cell_type": "code",
   "execution_count": 28,
   "metadata": {},
   "outputs": [],
   "source": [
    "str_1 = 'Everything I do,'\n",
    "str_2 = 'I do it for you!'"
   ]
  },
  {
   "cell_type": "code",
   "execution_count": 29,
   "metadata": {},
   "outputs": [
    {
     "name": "stdout",
     "output_type": "stream",
     "text": [
      "Everything I do,I do it for you!\n"
     ]
    }
   ],
   "source": [
    "print(str_1+str_2)"
   ]
  },
  {
   "cell_type": "code",
   "execution_count": 30,
   "metadata": {},
   "outputs": [
    {
     "data": {
      "text/plain": [
       "'Everything I do,Everything I do,Everything I do,I do it for you!'"
      ]
     },
     "execution_count": 30,
     "metadata": {},
     "output_type": "execute_result"
    }
   ],
   "source": [
    "str_1*3+str_2"
   ]
  },
  {
   "cell_type": "code",
   "execution_count": 36,
   "metadata": {},
   "outputs": [
    {
     "data": {
      "text/plain": [
       "'Everything I do, most probably, I do it for you!'"
      ]
     },
     "execution_count": 36,
     "metadata": {},
     "output_type": "execute_result"
    }
   ],
   "source": [
    "\" most probably, \".join([str_1,str_2])"
   ]
  },
  {
   "cell_type": "markdown",
   "metadata": {},
   "source": [
    "# Membership/Existence Check"
   ]
  },
  {
   "cell_type": "code",
   "execution_count": 37,
   "metadata": {},
   "outputs": [
    {
     "data": {
      "text/plain": [
       "False"
      ]
     },
     "execution_count": 37,
     "metadata": {},
     "output_type": "execute_result"
    }
   ],
   "source": [
    "'Life' in 'Work'"
   ]
  },
  {
   "cell_type": "code",
   "execution_count": 38,
   "metadata": {},
   "outputs": [
    {
     "data": {
      "text/plain": [
       "True"
      ]
     },
     "execution_count": 38,
     "metadata": {},
     "output_type": "execute_result"
    }
   ],
   "source": [
    "'Life' in 'Work Life Balance'"
   ]
  },
  {
   "cell_type": "code",
   "execution_count": 39,
   "metadata": {},
   "outputs": [
    {
     "data": {
      "text/plain": [
       "False"
      ]
     },
     "execution_count": 39,
     "metadata": {},
     "output_type": "execute_result"
    }
   ],
   "source": [
    "# Exact String matching must exist\n",
    "'end ' in 'Friendship'"
   ]
  },
  {
   "cell_type": "markdown",
   "metadata": {},
   "source": [
    "# Printing and Formatting Strings in Python"
   ]
  },
  {
   "cell_type": "code",
   "execution_count": 46,
   "metadata": {},
   "outputs": [
    {
     "name": "stdout",
     "output_type": "stream",
     "text": [
      "Fast Slow and Thinking\n"
     ]
    }
   ],
   "source": [
    "# Where order matters - Default , indexed printing\n",
    "str_1 = \"{} {} and {}\".format('Fast','Slow','Thinking')\n",
    "print(str_1)"
   ]
  },
  {
   "cell_type": "code",
   "execution_count": 47,
   "metadata": {},
   "outputs": [
    {
     "name": "stdout",
     "output_type": "stream",
     "text": [
      "Thinking Fast and Slow\n"
     ]
    }
   ],
   "source": [
    "str_1 = \"{} {} and {}\".format('Thinking','Fast','Slow')\n",
    "print(str_1)"
   ]
  },
  {
   "cell_type": "code",
   "execution_count": 49,
   "metadata": {},
   "outputs": [
    {
     "name": "stdout",
     "output_type": "stream",
     "text": [
      "Love Aaj Kal Parso Tarso\n"
     ]
    }
   ],
   "source": [
    "# Change the style\n",
    "str_2 = \"{2} {1} {4} {3} {0}\".format('Tarso','Aaj','Love','Parso','Kal')\n",
    "print(str_2)"
   ]
  },
  {
   "cell_type": "code",
   "execution_count": 52,
   "metadata": {},
   "outputs": [
    {
     "name": "stdout",
     "output_type": "stream",
     "text": [
      "Hum Aapke Pata Nahi Hain Kaun?\n"
     ]
    }
   ],
   "source": [
    "str_2 = \"{a} {b} {c} {d} {e}\".format(d='Hain',b='Aapke',a='Hum',e='Kaun?',c='Pata Nahi' )\n",
    "print(str_2)"
   ]
  },
  {
   "cell_type": "markdown",
   "metadata": {},
   "source": [
    "### The new f-string notation"
   ]
  },
  {
   "cell_type": "code",
   "execution_count": 54,
   "metadata": {},
   "outputs": [
    {
     "name": "stdout",
     "output_type": "stream",
     "text": [
      "Shah Rukh Khan, an Actor, lives in Mumbai\n"
     ]
    }
   ],
   "source": [
    "name = 'Shah Rukh Khan'\n",
    "job = 'Actor'\n",
    "address = 'Mumbai'\n",
    "\n",
    "print(f\"{name}, an {job}, lives in {address}\") # Capital F works too."
   ]
  },
  {
   "cell_type": "code",
   "execution_count": 56,
   "metadata": {},
   "outputs": [
    {
     "name": "stdout",
     "output_type": "stream",
     "text": [
      "Calculate 5*4*3*2*1 : 120\n"
     ]
    }
   ],
   "source": [
    "print(F\"Calculate 5*4*3*2*1 : {5*4*3*2*1}\")"
   ]
  },
  {
   "cell_type": "code",
   "execution_count": 57,
   "metadata": {},
   "outputs": [],
   "source": [
    "# Major Advantage : High Speed with f-strings - almost half compared to .format()"
   ]
  },
  {
   "cell_type": "code",
   "execution_count": 65,
   "metadata": {},
   "outputs": [
    {
     "name": "stdout",
     "output_type": "stream",
     "text": [
      "Brand  Product  Price   \n",
      "Apple  I-Pad       30000\n",
      "Mi     Note 7      14999\n",
      "Casio  Gshock      12000\n"
     ]
    }
   ],
   "source": [
    "# Another Usefulness\n",
    "products = [('Brand','Product','Price'),('Apple','I-Pad',30000),('Mi','Note 7',14999),('Casio','Gshock',12000)]\n",
    "\n",
    "for item in products:\n",
    "    print(f\"{item[0]:{5}}  {item[1]:{7}}  {item[2]:{8}}\")\n",
    "# f in f strings , to identify object and correspondinlgy item size"
   ]
  },
  {
   "cell_type": "markdown",
   "metadata": {},
   "source": [
    "# String Functions"
   ]
  },
  {
   "cell_type": "code",
   "execution_count": 66,
   "metadata": {},
   "outputs": [],
   "source": [
    "import pandas as pd\n",
    "\n",
    "funcs = pd.read_html(\"https://www.w3schools.com/python/python_ref_string.asp\")"
   ]
  },
  {
   "cell_type": "code",
   "execution_count": 77,
   "metadata": {},
   "outputs": [
    {
     "data": {
      "text/html": [
       "<div>\n",
       "<style scoped>\n",
       "    .dataframe tbody tr th:only-of-type {\n",
       "        vertical-align: middle;\n",
       "    }\n",
       "\n",
       "    .dataframe tbody tr th {\n",
       "        vertical-align: top;\n",
       "    }\n",
       "\n",
       "    .dataframe thead th {\n",
       "        text-align: right;\n",
       "    }\n",
       "</style>\n",
       "<table border=\"1\" class=\"dataframe\">\n",
       "  <thead>\n",
       "    <tr style=\"text-align: right;\">\n",
       "      <th></th>\n",
       "      <th>Method</th>\n",
       "      <th>Description</th>\n",
       "    </tr>\n",
       "  </thead>\n",
       "  <tbody>\n",
       "    <tr>\n",
       "      <th>0</th>\n",
       "      <td>capitalize()</td>\n",
       "      <td>Converts the first character to upper case</td>\n",
       "    </tr>\n",
       "    <tr>\n",
       "      <th>1</th>\n",
       "      <td>casefold()</td>\n",
       "      <td>Converts string into lower case</td>\n",
       "    </tr>\n",
       "    <tr>\n",
       "      <th>2</th>\n",
       "      <td>center()</td>\n",
       "      <td>Returns a centered string</td>\n",
       "    </tr>\n",
       "    <tr>\n",
       "      <th>3</th>\n",
       "      <td>count()</td>\n",
       "      <td>Returns the number of times a specified value occurs in a string</td>\n",
       "    </tr>\n",
       "    <tr>\n",
       "      <th>4</th>\n",
       "      <td>encode()</td>\n",
       "      <td>Returns an encoded version of the string</td>\n",
       "    </tr>\n",
       "    <tr>\n",
       "      <th>5</th>\n",
       "      <td>endswith()</td>\n",
       "      <td>Returns true if the string ends with the specified value</td>\n",
       "    </tr>\n",
       "    <tr>\n",
       "      <th>6</th>\n",
       "      <td>expandtabs()</td>\n",
       "      <td>Sets the tab size of the string</td>\n",
       "    </tr>\n",
       "    <tr>\n",
       "      <th>7</th>\n",
       "      <td>find()</td>\n",
       "      <td>Searches the string for a specified value and returns the position of where it was found</td>\n",
       "    </tr>\n",
       "    <tr>\n",
       "      <th>8</th>\n",
       "      <td>format()</td>\n",
       "      <td>Formats specified values in a string</td>\n",
       "    </tr>\n",
       "    <tr>\n",
       "      <th>9</th>\n",
       "      <td>format_map()</td>\n",
       "      <td>Formats specified values in a string</td>\n",
       "    </tr>\n",
       "    <tr>\n",
       "      <th>10</th>\n",
       "      <td>index()</td>\n",
       "      <td>Searches the string for a specified value and returns the position of where it was found</td>\n",
       "    </tr>\n",
       "    <tr>\n",
       "      <th>11</th>\n",
       "      <td>isalnum()</td>\n",
       "      <td>Returns True if all characters in the string are alphanumeric</td>\n",
       "    </tr>\n",
       "    <tr>\n",
       "      <th>12</th>\n",
       "      <td>isalpha()</td>\n",
       "      <td>Returns True if all characters in the string are in the alphabet</td>\n",
       "    </tr>\n",
       "    <tr>\n",
       "      <th>13</th>\n",
       "      <td>isdecimal()</td>\n",
       "      <td>Returns True if all characters in the string are decimals</td>\n",
       "    </tr>\n",
       "    <tr>\n",
       "      <th>14</th>\n",
       "      <td>isdigit()</td>\n",
       "      <td>Returns True if all characters in the string are digits</td>\n",
       "    </tr>\n",
       "    <tr>\n",
       "      <th>15</th>\n",
       "      <td>isidentifier()</td>\n",
       "      <td>Returns True if the string is an identifier</td>\n",
       "    </tr>\n",
       "    <tr>\n",
       "      <th>16</th>\n",
       "      <td>islower()</td>\n",
       "      <td>Returns True if all characters in the string are lower case</td>\n",
       "    </tr>\n",
       "    <tr>\n",
       "      <th>17</th>\n",
       "      <td>isnumeric()</td>\n",
       "      <td>Returns True if all characters in the string are numeric</td>\n",
       "    </tr>\n",
       "    <tr>\n",
       "      <th>18</th>\n",
       "      <td>isprintable()</td>\n",
       "      <td>Returns True if all characters in the string are printable</td>\n",
       "    </tr>\n",
       "    <tr>\n",
       "      <th>19</th>\n",
       "      <td>isspace()</td>\n",
       "      <td>Returns True if all characters in the string are whitespaces</td>\n",
       "    </tr>\n",
       "    <tr>\n",
       "      <th>20</th>\n",
       "      <td>istitle()</td>\n",
       "      <td>Returns True if the string follows the rules of a title</td>\n",
       "    </tr>\n",
       "    <tr>\n",
       "      <th>21</th>\n",
       "      <td>isupper()</td>\n",
       "      <td>Returns True if all characters in the string are upper case</td>\n",
       "    </tr>\n",
       "    <tr>\n",
       "      <th>22</th>\n",
       "      <td>join()</td>\n",
       "      <td>Joins the elements of an iterable to the end of the string</td>\n",
       "    </tr>\n",
       "    <tr>\n",
       "      <th>23</th>\n",
       "      <td>ljust()</td>\n",
       "      <td>Returns a left justified version of the string</td>\n",
       "    </tr>\n",
       "    <tr>\n",
       "      <th>24</th>\n",
       "      <td>lower()</td>\n",
       "      <td>Converts a string into lower case</td>\n",
       "    </tr>\n",
       "    <tr>\n",
       "      <th>25</th>\n",
       "      <td>lstrip()</td>\n",
       "      <td>Returns a left trim version of the string</td>\n",
       "    </tr>\n",
       "    <tr>\n",
       "      <th>26</th>\n",
       "      <td>maketrans()</td>\n",
       "      <td>Returns a translation table to be used in translations</td>\n",
       "    </tr>\n",
       "    <tr>\n",
       "      <th>27</th>\n",
       "      <td>partition()</td>\n",
       "      <td>Returns a tuple where the string is parted into three parts</td>\n",
       "    </tr>\n",
       "    <tr>\n",
       "      <th>28</th>\n",
       "      <td>replace()</td>\n",
       "      <td>Returns a string where a specified value is replaced with a specified value</td>\n",
       "    </tr>\n",
       "    <tr>\n",
       "      <th>29</th>\n",
       "      <td>rfind()</td>\n",
       "      <td>Searches the string for a specified value and returns the last position of where it was found</td>\n",
       "    </tr>\n",
       "    <tr>\n",
       "      <th>30</th>\n",
       "      <td>rindex()</td>\n",
       "      <td>Searches the string for a specified value and returns the last position of where it was found</td>\n",
       "    </tr>\n",
       "    <tr>\n",
       "      <th>31</th>\n",
       "      <td>rjust()</td>\n",
       "      <td>Returns a right justified version of the string</td>\n",
       "    </tr>\n",
       "    <tr>\n",
       "      <th>32</th>\n",
       "      <td>rpartition()</td>\n",
       "      <td>Returns a tuple where the string is parted into three parts</td>\n",
       "    </tr>\n",
       "    <tr>\n",
       "      <th>33</th>\n",
       "      <td>rsplit()</td>\n",
       "      <td>Splits the string at the specified separator, and returns a list</td>\n",
       "    </tr>\n",
       "    <tr>\n",
       "      <th>34</th>\n",
       "      <td>rstrip()</td>\n",
       "      <td>Returns a right trim version of the string</td>\n",
       "    </tr>\n",
       "    <tr>\n",
       "      <th>35</th>\n",
       "      <td>split()</td>\n",
       "      <td>Splits the string at the specified separator, and returns a list</td>\n",
       "    </tr>\n",
       "    <tr>\n",
       "      <th>36</th>\n",
       "      <td>splitlines()</td>\n",
       "      <td>Splits the string at line breaks and returns a list</td>\n",
       "    </tr>\n",
       "    <tr>\n",
       "      <th>37</th>\n",
       "      <td>startswith()</td>\n",
       "      <td>Returns true if the string starts with the specified value</td>\n",
       "    </tr>\n",
       "    <tr>\n",
       "      <th>38</th>\n",
       "      <td>strip()</td>\n",
       "      <td>Returns a trimmed version of the string</td>\n",
       "    </tr>\n",
       "    <tr>\n",
       "      <th>39</th>\n",
       "      <td>swapcase()</td>\n",
       "      <td>Swaps cases, lower case becomes upper case and vice versa</td>\n",
       "    </tr>\n",
       "    <tr>\n",
       "      <th>40</th>\n",
       "      <td>title()</td>\n",
       "      <td>Converts the first character of each word to upper case</td>\n",
       "    </tr>\n",
       "    <tr>\n",
       "      <th>41</th>\n",
       "      <td>translate()</td>\n",
       "      <td>Returns a translated string</td>\n",
       "    </tr>\n",
       "    <tr>\n",
       "      <th>42</th>\n",
       "      <td>upper()</td>\n",
       "      <td>Converts a string into upper case</td>\n",
       "    </tr>\n",
       "    <tr>\n",
       "      <th>43</th>\n",
       "      <td>zfill()</td>\n",
       "      <td>Fills the string with a specified number of 0 values at the beginning</td>\n",
       "    </tr>\n",
       "  </tbody>\n",
       "</table>\n",
       "</div>"
      ],
      "text/plain": [
       "            Method                                                                                    Description\n",
       "0     capitalize()                                                     Converts the first character to upper case\n",
       "1       casefold()                                                                Converts string into lower case\n",
       "2         center()                                                                      Returns a centered string\n",
       "3          count()                               Returns the number of times a specified value occurs in a string\n",
       "4         encode()                                                       Returns an encoded version of the string\n",
       "5       endswith()                                       Returns true if the string ends with the specified value\n",
       "6     expandtabs()                                                                Sets the tab size of the string\n",
       "7           find()       Searches the string for a specified value and returns the position of where it was found\n",
       "8         format()                                                           Formats specified values in a string\n",
       "9     format_map()                                                           Formats specified values in a string\n",
       "10         index()       Searches the string for a specified value and returns the position of where it was found\n",
       "11       isalnum()                                  Returns True if all characters in the string are alphanumeric\n",
       "12       isalpha()                               Returns True if all characters in the string are in the alphabet\n",
       "13     isdecimal()                                      Returns True if all characters in the string are decimals\n",
       "14       isdigit()                                        Returns True if all characters in the string are digits\n",
       "15  isidentifier()                                                    Returns True if the string is an identifier\n",
       "16       islower()                                    Returns True if all characters in the string are lower case\n",
       "17     isnumeric()                                       Returns True if all characters in the string are numeric\n",
       "18   isprintable()                                     Returns True if all characters in the string are printable\n",
       "19       isspace()                                   Returns True if all characters in the string are whitespaces\n",
       "20       istitle()                                        Returns True if the string follows the rules of a title\n",
       "21       isupper()                                    Returns True if all characters in the string are upper case\n",
       "22          join()                                     Joins the elements of an iterable to the end of the string\n",
       "23         ljust()                                                 Returns a left justified version of the string\n",
       "24         lower()                                                              Converts a string into lower case\n",
       "25        lstrip()                                                      Returns a left trim version of the string\n",
       "26     maketrans()                                         Returns a translation table to be used in translations\n",
       "27     partition()                                    Returns a tuple where the string is parted into three parts\n",
       "28       replace()                    Returns a string where a specified value is replaced with a specified value\n",
       "29         rfind()  Searches the string for a specified value and returns the last position of where it was found\n",
       "30        rindex()  Searches the string for a specified value and returns the last position of where it was found\n",
       "31         rjust()                                                Returns a right justified version of the string\n",
       "32    rpartition()                                    Returns a tuple where the string is parted into three parts\n",
       "33        rsplit()                               Splits the string at the specified separator, and returns a list\n",
       "34        rstrip()                                                     Returns a right trim version of the string\n",
       "35         split()                               Splits the string at the specified separator, and returns a list\n",
       "36    splitlines()                                            Splits the string at line breaks and returns a list\n",
       "37    startswith()                                     Returns true if the string starts with the specified value\n",
       "38         strip()                                                        Returns a trimmed version of the string\n",
       "39      swapcase()                                      Swaps cases, lower case becomes upper case and vice versa\n",
       "40         title()                                        Converts the first character of each word to upper case\n",
       "41     translate()                                                                    Returns a translated string\n",
       "42         upper()                                                              Converts a string into upper case\n",
       "43         zfill()                          Fills the string with a specified number of 0 values at the beginning"
      ]
     },
     "execution_count": 77,
     "metadata": {},
     "output_type": "execute_result"
    }
   ],
   "source": [
    "pd.set_option('display.max_colwidth',100)\n",
    "funcs[0]"
   ]
  },
  {
   "cell_type": "code",
   "execution_count": 87,
   "metadata": {},
   "outputs": [
    {
     "name": "stdout",
     "output_type": "stream",
     "text": [
      "dilwale dulhania le jaenge. shayad nahi , dekhte hain\n"
     ]
    }
   ],
   "source": [
    "str_1 = 'dilwale dulhania le jaenge. shayad nahi , dekhte hain'\n",
    "print(str_1)"
   ]
  },
  {
   "cell_type": "code",
   "execution_count": 88,
   "metadata": {},
   "outputs": [
    {
     "data": {
      "text/plain": [
       "'Dilwale dulhania le jaenge. shayad nahi , dekhte hain'"
      ]
     },
     "execution_count": 88,
     "metadata": {},
     "output_type": "execute_result"
    }
   ],
   "source": [
    "str_1.capitalize()"
   ]
  },
  {
   "cell_type": "code",
   "execution_count": 89,
   "metadata": {},
   "outputs": [
    {
     "data": {
      "text/plain": [
       "'Dilwale Dulhania Le Jaenge. Shayad Nahi , Dekhte Hain'"
      ]
     },
     "execution_count": 89,
     "metadata": {},
     "output_type": "execute_result"
    }
   ],
   "source": [
    "str_1.title()"
   ]
  },
  {
   "cell_type": "code",
   "execution_count": 90,
   "metadata": {},
   "outputs": [
    {
     "data": {
      "text/plain": [
       "'DILWALE DULHANIA LE JAENGE. SHAYAD NAHI , DEKHTE HAIN'"
      ]
     },
     "execution_count": 90,
     "metadata": {},
     "output_type": "execute_result"
    }
   ],
   "source": [
    "str_1.upper()"
   ]
  },
  {
   "cell_type": "code",
   "execution_count": 92,
   "metadata": {},
   "outputs": [
    {
     "data": {
      "text/plain": [
       "True"
      ]
     },
     "execution_count": 92,
     "metadata": {},
     "output_type": "execute_result"
    }
   ],
   "source": [
    "str_1.startswith('d') # Exact match , case matters"
   ]
  },
  {
   "cell_type": "code",
   "execution_count": 93,
   "metadata": {},
   "outputs": [
    {
     "data": {
      "text/plain": [
       "True"
      ]
     },
     "execution_count": 93,
     "metadata": {},
     "output_type": "execute_result"
    }
   ],
   "source": [
    "str_1.endswith('n')"
   ]
  },
  {
   "cell_type": "code",
   "execution_count": 102,
   "metadata": {},
   "outputs": [],
   "source": [
    "str_2 = '12345678910111213 Tera Karun din gin gin ke intezaar'"
   ]
  },
  {
   "cell_type": "code",
   "execution_count": null,
   "metadata": {},
   "outputs": [],
   "source": [
    "# Checking alphabets only"
   ]
  },
  {
   "cell_type": "code",
   "execution_count": 103,
   "metadata": {},
   "outputs": [
    {
     "data": {
      "text/plain": [
       "False"
      ]
     },
     "execution_count": 103,
     "metadata": {},
     "output_type": "execute_result"
    }
   ],
   "source": [
    "str_2.isalpha()"
   ]
  },
  {
   "cell_type": "code",
   "execution_count": 111,
   "metadata": {},
   "outputs": [
    {
     "data": {
      "text/plain": [
       "True"
      ]
     },
     "execution_count": 111,
     "metadata": {},
     "output_type": "execute_result"
    }
   ],
   "source": [
    "str_2[-7:-1].isalpha()"
   ]
  },
  {
   "cell_type": "code",
   "execution_count": null,
   "metadata": {},
   "outputs": [],
   "source": [
    "# Checking Digits only"
   ]
  },
  {
   "cell_type": "code",
   "execution_count": 104,
   "metadata": {},
   "outputs": [
    {
     "data": {
      "text/plain": [
       "False"
      ]
     },
     "execution_count": 104,
     "metadata": {},
     "output_type": "execute_result"
    }
   ],
   "source": [
    "str_2.isdigit()"
   ]
  },
  {
   "cell_type": "code",
   "execution_count": 113,
   "metadata": {},
   "outputs": [
    {
     "data": {
      "text/plain": [
       "True"
      ]
     },
     "execution_count": 113,
     "metadata": {},
     "output_type": "execute_result"
    }
   ],
   "source": [
    "str_2[:5].isdigit()"
   ]
  },
  {
   "cell_type": "code",
   "execution_count": 115,
   "metadata": {},
   "outputs": [
    {
     "data": {
      "text/plain": [
       "['What', 'a', 'WOW', '!']"
      ]
     },
     "execution_count": 115,
     "metadata": {},
     "output_type": "execute_result"
    }
   ],
   "source": [
    "#.split()\n",
    "\n",
    "str_3 = 'What a WOW !'\n",
    "str_3.split() # default space"
   ]
  },
  {
   "cell_type": "code",
   "execution_count": 116,
   "metadata": {},
   "outputs": [
    {
     "data": {
      "text/plain": [
       "['Abki baar', 'pata nahi yaar']"
      ]
     },
     "execution_count": 116,
     "metadata": {},
     "output_type": "execute_result"
    }
   ],
   "source": [
    "str_4 = 'Abki baar,pata nahi yaar'\n",
    "str_4.split(',')"
   ]
  },
  {
   "cell_type": "code",
   "execution_count": 120,
   "metadata": {},
   "outputs": [
    {
     "data": {
      "text/plain": [
       "['Once', 'or Twice,or Thrice,or Four times']"
      ]
     },
     "execution_count": 120,
     "metadata": {},
     "output_type": "execute_result"
    }
   ],
   "source": [
    "# How many times do we want to split ? \n",
    "str_5 = \"Once,or Twice,or Thrice,or Four times\"\n",
    "str_5.split(',' , maxsplit=1)"
   ]
  },
  {
   "cell_type": "markdown",
   "metadata": {},
   "source": [
    "# Text - File Processing"
   ]
  },
  {
   "cell_type": "code",
   "execution_count": 121,
   "metadata": {},
   "outputs": [],
   "source": [
    "import os"
   ]
  },
  {
   "cell_type": "code",
   "execution_count": 122,
   "metadata": {},
   "outputs": [
    {
     "data": {
      "text/plain": [
       "'/Users/datagasmic/Documents/Natural Language Processing'"
      ]
     },
     "execution_count": 122,
     "metadata": {},
     "output_type": "execute_result"
    }
   ],
   "source": [
    "os.getcwd()"
   ]
  },
  {
   "cell_type": "code",
   "execution_count": null,
   "metadata": {},
   "outputs": [],
   "source": [
    "os.chdir(path = \"------\") # Add the dirtectory to change to it"
   ]
  },
  {
   "cell_type": "code",
   "execution_count": 126,
   "metadata": {},
   "outputs": [],
   "source": [
    "import urllib # For reading texts online"
   ]
  },
  {
   "cell_type": "markdown",
   "metadata": {},
   "source": [
    "# The infamous Shakespeare Text Data , from the Play"
   ]
  },
  {
   "cell_type": "code",
   "execution_count": 129,
   "metadata": {},
   "outputs": [
    {
     "data": {
      "text/plain": [
       "('shakespeare.txt', <http.client.HTTPMessage at 0x111592cc0>)"
      ]
     },
     "execution_count": 129,
     "metadata": {},
     "output_type": "execute_result"
    }
   ],
   "source": [
    "urllib.request.urlretrieve(\"https://ocw.mit.edu/ans7870/6/6.006/s08/lecturenotes/files/t8.shakespeare.txt\",'shakespeare.txt')"
   ]
  },
  {
   "cell_type": "code",
   "execution_count": 130,
   "metadata": {},
   "outputs": [],
   "source": [
    "file = open('shakespeare.txt')"
   ]
  },
  {
   "cell_type": "markdown",
   "metadata": {},
   "source": [
    "# OR"
   ]
  },
  {
   "cell_type": "code",
   "execution_count": 136,
   "metadata": {},
   "outputs": [],
   "source": [
    "import urllib\n",
    "url = \"https://ocw.mit.edu/ans7870/6/6.006/s08/lecturenotes/files/t8.shakespeare.txt\"\n",
    "text = urllib.request.urlopen(url).read()"
   ]
  },
  {
   "cell_type": "code",
   "execution_count": 149,
   "metadata": {},
   "outputs": [],
   "source": [
    "text = text.decode()"
   ]
  },
  {
   "cell_type": "code",
   "execution_count": 153,
   "metadata": {},
   "outputs": [
    {
     "name": "stdout",
     "output_type": "stream",
     "text": [
      "This is the 100th Etext file presented by Project Gutenberg, and\n",
      "is presented in cooperation with World Library, Inc., from their\n",
      "Library of the Future and Shakespeare CDROMS.  Project Gutenberg\n",
      "often releases Etexts that are NOT placed in the Public Domain!!\n",
      "\n",
      "Shakespeare\n",
      "\n",
      "*This Etext has certain copyright implications you should read!*\n",
      "\n",
      "<<THIS ELECTRONIC VERSION OF THE COMPLETE WORKS OF WILLIAM\n",
      "SHAKESPEARE IS COPYRIGHT 1990-1993 BY WORLD LIBRARY, INC., AND IS\n",
      "PROVIDED BY PROJECT GUTENBERG ETEXT OF ILLINOIS BENEDICTINE COLLEGE\n",
      "WITH PERMISSION.  ELECTRONIC AND MACHINE READABLE COPIES MAY BE\n",
      "DISTRIBUTED SO LONG AS SUCH COPIES (1) ARE FOR YOUR OR OTHERS\n",
      "PERSONAL USE ONLY, AND (2) ARE NOT DISTRIBUTED OR USED\n",
      "COMMERCIALLY.  PROHIBITED COMMERCIAL DISTRIBUTION INCLUDES BY ANY\n",
      "SERVICE THAT CHARGES FOR DOWNLOAD TIME OR FOR MEMBERSHIP.>>\n",
      "\n",
      "*Project Gutenberg is proud to cooperate with The World Library*\n",
      "in the presentation of The Complete Works of William Shakespeare\n",
      "for your reading for educatio\n"
     ]
    }
   ],
   "source": [
    "print(text[:1000])"
   ]
  },
  {
   "cell_type": "code",
   "execution_count": 155,
   "metadata": {},
   "outputs": [
    {
     "data": {
      "text/plain": [
       "<_io.TextIOWrapper name='shakespeare.txt' mode='r' encoding='UTF-8'>"
      ]
     },
     "execution_count": 155,
     "metadata": {},
     "output_type": "execute_result"
    }
   ],
   "source": [
    "file # The file we can work with"
   ]
  },
  {
   "cell_type": "code",
   "execution_count": 156,
   "metadata": {},
   "outputs": [],
   "source": [
    "data = file.read()"
   ]
  },
  {
   "cell_type": "code",
   "execution_count": 158,
   "metadata": {},
   "outputs": [
    {
     "data": {
      "text/plain": [
       "'This is the 100th Etext file presented by Project Gutenberg, and\\nis presented in cooperation with World Library, Inc., from their\\nLibrary of the Future and Shakespeare CDROMS.  Project Gutenberg\\noften releases Etexts that are NOT placed in the Public Domain!!\\n\\nShakespeare\\n\\n*This Etext has certain copyright implications you should read!*\\n\\n<<THIS ELECTRONIC VERSION OF THE COMPLETE WORKS OF WILLIAM\\nSHAKESPEARE IS COPYRIGHT 1990-1993 BY WORLD LIBRARY, INC., AND IS\\nPROVIDED BY PROJECT GUTENBERG ETEXT OF ILLINOIS BENEDICTINE COLLEGE\\nWITH PERMISSION.  ELECTRONIC AND MACHINE READABLE COPIES MAY BE\\nDISTRIBUTED SO LONG AS SUCH COPIES (1) ARE FOR YOUR OR OTHERS\\nPERSONAL USE ONLY, AND (2) ARE NOT DISTRIBUTED OR USED\\nCOMMERCIALLY.  PROHIBITED COMMERCIAL DISTRIBUTION INCLUDES BY ANY\\nSERVICE THAT CHARGES FOR DOWNLOAD TIME OR FOR MEMBERSHIP.>>\\n\\n*Project Gutenberg is proud to cooperate with The World Library*\\nin the presentation of The Complete Works of William Shakespeare\\nfor your reading for educatio'"
      ]
     },
     "execution_count": 158,
     "metadata": {},
     "output_type": "execute_result"
    }
   ],
   "source": [
    "data[:1000]"
   ]
  },
  {
   "cell_type": "code",
   "execution_count": 160,
   "metadata": {},
   "outputs": [
    {
     "data": {
      "text/plain": [
       "''"
      ]
     },
     "execution_count": 160,
     "metadata": {},
     "output_type": "execute_result"
    }
   ],
   "source": [
    "file.read() # Because currently the file cursor is at the end of the file"
   ]
  },
  {
   "cell_type": "code",
   "execution_count": 161,
   "metadata": {},
   "outputs": [
    {
     "data": {
      "text/plain": [
       "0"
      ]
     },
     "execution_count": 161,
     "metadata": {},
     "output_type": "execute_result"
    }
   ],
   "source": [
    "# change it to beginning again\n",
    "file.seek(0) # starts at index 0"
   ]
  },
  {
   "cell_type": "code",
   "execution_count": 164,
   "metadata": {},
   "outputs": [
    {
     "data": {
      "text/plain": [
       "'This is the 100th Etext file presented by Project Gutenberg, and\\nis presented in cooperation with World Library, Inc., from their\\nLibrary of the Future and Shakespeare CDROMS.  Project Gutenberg\\noften releases Etexts that are NOT placed in the Public Domain!!\\n\\nShakespeare\\n\\n*This Etext has certain copyright implications you should read!*\\n\\n<<THIS ELECTRONIC VERSION OF THE COMPLETE WORKS OF WILLIAM\\nSHAKESPEARE IS COPYRIGHT 1990-1993 BY WORLD LIBRARY, INC., AND IS\\nPROVIDED BY PROJECT GUTENBERG ETEXT OF ILLINOIS BENEDICTINE COLLEGE\\nWITH PERMISSION.  ELECTRONIC AND MACHINE READABLE COPIES MAY BE\\nDISTRIBUTED SO LONG AS SUCH COPIES (1) ARE FOR YOUR OR OTHERS\\nPERSONAL USE ONLY, AND (2) ARE NOT DISTRIBUTED OR USED\\nCOMMERCIALLY.  PROHIBITED COMMERCIAL DISTRIBUTION INCLUDES BY ANY\\nSERVICE THAT CHARGES FOR DOWNLOAD TIME OR FOR MEMBERSHIP.>>\\n\\n*Project Gutenberg is proud to cooperate with The World Library*\\nin the presentation of The Complete Works of William Shakespeare\\nfor your reading for educatio'"
      ]
     },
     "execution_count": 164,
     "metadata": {},
     "output_type": "execute_result"
    }
   ],
   "source": [
    "file.read()[:1000]"
   ]
  },
  {
   "cell_type": "code",
   "execution_count": 170,
   "metadata": {},
   "outputs": [
    {
     "data": {
      "text/plain": [
       "0"
      ]
     },
     "execution_count": 170,
     "metadata": {},
     "output_type": "execute_result"
    }
   ],
   "source": [
    "file.seek(0)"
   ]
  },
  {
   "cell_type": "code",
   "execution_count": 171,
   "metadata": {},
   "outputs": [
    {
     "data": {
      "text/plain": [
       "['This is the 100th Etext file presented by Project Gutenberg, and\\n',\n",
       " 'is presented in cooperation with World Library, Inc., from their\\n',\n",
       " 'Library of the Future and Shakespeare CDROMS.  Project Gutenberg\\n',\n",
       " 'often releases Etexts that are NOT placed in the Public Domain!!\\n',\n",
       " '\\n',\n",
       " 'Shakespeare\\n',\n",
       " '\\n',\n",
       " '*This Etext has certain copyright implications you should read!*\\n',\n",
       " '\\n',\n",
       " '<<THIS ELECTRONIC VERSION OF THE COMPLETE WORKS OF WILLIAM\\n']"
      ]
     },
     "execution_count": 171,
     "metadata": {},
     "output_type": "execute_result"
    }
   ],
   "source": [
    "file.readlines()[:10]"
   ]
  },
  {
   "cell_type": "markdown",
   "metadata": {},
   "source": [
    "# Writing to a file, running or created"
   ]
  },
  {
   "cell_type": "code",
   "execution_count": 172,
   "metadata": {},
   "outputs": [
    {
     "data": {
      "text/plain": [
       "28"
      ]
     },
     "execution_count": 172,
     "metadata": {},
     "output_type": "execute_result"
    }
   ],
   "source": [
    "new_file = open('file_to_write.txt','w+')\n",
    "new_file.write(\"I am writing in the file now\")\n"
   ]
  },
  {
   "cell_type": "code",
   "execution_count": 173,
   "metadata": {},
   "outputs": [
    {
     "data": {
      "text/plain": [
       "'I am writing in the file now'"
      ]
     },
     "execution_count": 173,
     "metadata": {},
     "output_type": "execute_result"
    }
   ],
   "source": [
    "new_file.seek(0)\n",
    "new_file.read()"
   ]
  },
  {
   "cell_type": "code",
   "execution_count": 174,
   "metadata": {},
   "outputs": [],
   "source": [
    "new_file.close()"
   ]
  },
  {
   "cell_type": "markdown",
   "metadata": {},
   "source": [
    "## Appending data/text to a file"
   ]
  },
  {
   "cell_type": "code",
   "execution_count": 175,
   "metadata": {},
   "outputs": [],
   "source": [
    "file = open('file_to_write.txt','a+')\n",
    "file.write(\"\\nFirst line to write\")\n",
    "file.write(\"\\nSecond line to write\\n\")\n",
    "file.close()"
   ]
  },
  {
   "cell_type": "markdown",
   "metadata": {},
   "source": [
    "## With magic functions"
   ]
  },
  {
   "cell_type": "code",
   "execution_count": 183,
   "metadata": {},
   "outputs": [
    {
     "name": "stdout",
     "output_type": "stream",
     "text": [
      "Appending to file_to_write.txt\n"
     ]
    }
   ],
   "source": [
    "%%writefile -a file_to_write.txt\n",
    "\n",
    "Hey Wassssup , we can do this for sure !!"
   ]
  },
  {
   "cell_type": "markdown",
   "metadata": {},
   "source": [
    "## Looking at the contents now"
   ]
  },
  {
   "cell_type": "code",
   "execution_count": 178,
   "metadata": {},
   "outputs": [
    {
     "data": {
      "text/plain": [
       "'I am writing in the file now\\nFirst line to write\\nSecond line to write\\n'"
      ]
     },
     "execution_count": 178,
     "metadata": {},
     "output_type": "execute_result"
    }
   ],
   "source": [
    "file = open('file_to_write.txt','r')\n",
    "file.read()"
   ]
  },
  {
   "cell_type": "code",
   "execution_count": 185,
   "metadata": {},
   "outputs": [
    {
     "name": "stdout",
     "output_type": "stream",
     "text": [
      "I am writing in the file now\n",
      "First line to write\n",
      "Second line to write\n",
      "\n",
      "Hey Wassssup , we can do this for sure\n",
      "\n",
      "Hey Wassssup , we can do this for sure !!\n",
      "\n",
      "Hey Wassssup , we can do this for sure !!\n",
      "\n"
     ]
    }
   ],
   "source": [
    "with open('file_to_write.txt','r') as file:\n",
    "    print(file.read())\n",
    "    \n",
    "# this automatically closes the file after the loop, so we don't need to explicitly close the file."
   ]
  },
  {
   "cell_type": "markdown",
   "metadata": {},
   "source": [
    "# Working with PDF Data Files "
   ]
  },
  {
   "cell_type": "code",
   "execution_count": 187,
   "metadata": {},
   "outputs": [
    {
     "data": {
      "text/plain": [
       "('SLP_Book.pdf', <http.client.HTTPMessage at 0x113c5df28>)"
      ]
     },
     "execution_count": 187,
     "metadata": {},
     "output_type": "execute_result"
    }
   ],
   "source": [
    "# downloading first\n",
    "import urllib\n",
    "urllib.request.urlretrieve(\"https://web.stanford.edu/~jurafsky/slp3/2.pdf\",\"SLP_Book.pdf\")"
   ]
  },
  {
   "cell_type": "code",
   "execution_count": 188,
   "metadata": {},
   "outputs": [
    {
     "name": "stdout",
     "output_type": "stream",
     "text": [
      "Collecting pypdf2\n",
      "  Downloading PyPDF2-1.26.0.tar.gz (77 kB)\n",
      "\u001b[K     |████████████████████████████████| 77 kB 731 kB/s eta 0:00:01\n",
      "\u001b[?25hBuilding wheels for collected packages: pypdf2\n",
      "  Building wheel for pypdf2 (setup.py) ... \u001b[?25ldone\n",
      "\u001b[?25h  Created wheel for pypdf2: filename=PyPDF2-1.26.0-py3-none-any.whl size=61084 sha256=3271e0ec79e1258fc9d9e289b28cdca3cba560dd6493857d91f75026f8464ef9\n",
      "  Stored in directory: /Users/datagasmic/Library/Caches/pip/wheels/80/1a/24/648467ade3a77ed20f35cfd2badd32134e96dd25ca811e64b3\n",
      "Successfully built pypdf2\n",
      "Installing collected packages: pypdf2\n",
      "Successfully installed pypdf2-1.26.0\n"
     ]
    }
   ],
   "source": [
    "# Installing PyPDF2\n",
    "!pip3 install pypdf2"
   ]
  },
  {
   "cell_type": "code",
   "execution_count": 190,
   "metadata": {},
   "outputs": [],
   "source": [
    "import PyPDF2"
   ]
  },
  {
   "cell_type": "code",
   "execution_count": 192,
   "metadata": {},
   "outputs": [],
   "source": [
    "pdf = PyPDF2.PdfFileReader(\"SLP_Book.pdf\")"
   ]
  },
  {
   "cell_type": "code",
   "execution_count": 194,
   "metadata": {},
   "outputs": [
    {
     "data": {
      "text/plain": [
       "30"
      ]
     },
     "execution_count": 194,
     "metadata": {},
     "output_type": "execute_result"
    }
   ],
   "source": [
    "pdf.getNumPages()"
   ]
  },
  {
   "cell_type": "code",
   "execution_count": 197,
   "metadata": {},
   "outputs": [],
   "source": [
    "page_1 = pdf.getPage(0)"
   ]
  },
  {
   "cell_type": "code",
   "execution_count": 199,
   "metadata": {},
   "outputs": [
    {
     "data": {
      "text/plain": [
       "\"SpeechandLanguageProcessing.DanielJurafsky&JamesH.Martin.Copyright\\nc\\n\\n2019.All\\nrightsreserved.DraftofOctober2,2019.\\nCHAPTER\\n2\\nRegularExpressions,Text\\nNormalization,EditDistance\\nUser:Iamunhappy.\\nELIZA:DOYOUTHINKCOMINGHEREWILLHELPYOUNOTTOBEUNHAPPY\\nUser:Ineedsomehelp,thatmuchseemscertain.\\nELIZA:WHATWOULDITMEANTOYOUIFYOUGOTSOMEHELP\\nUser:PerhapsIcouldlearntogetalongwithmymother.\\nELIZA:TELLMEMOREABOUTYOURFAMILY\\nUser:Mymothertakescareofme.\\nELIZA:WHOELSEINYOUFAMILYTAKESCAREOFYOU\\nUser:Myfather.\\nELIZA:YOURFATHER\\nUser:Youarelikemyfatherinsomeways.\\nWeizenbaum(1966)\\nThedialogueaboveisfrom\\nELIZA\\n,anearlynaturallanguageprocessingsystem\\nELIZA\\nthatcouldcarryonalimitedconversationwithauserbyimitatingtheresponsesof\\naRogerianpsychotherapist\\n(Weizenbaum,1966)\\n.ELIZAisasurprisinglysimple\\nprogramthatusespatternmatchingtorecognizephraseslikeﬁIneedXﬂandtranslate\\nthemintosuitableoutputslikeﬁWhatwoulditmeantoyouifyougotX?ﬂ.This\\nsimpletechniquesucceedsinthisdomainbecauseELIZAdoesn'tactuallyneedto\\nknow\\nanythingtomimicaRogerianpsychotherapist.AsWeizenbaumnotes,thisis\\noneofthefewdialoguegenreswherelistenerscanactasiftheyknownothingofthe\\nworld.Eliza'smimicryofhumanconversationwasremarkablysuccessful:many\\npeoplewhointeractedwithELIZAcametobelievethatitreally\\nunderstood\\nthem\\nandtheirproblems,manycontinuedtobelieveinELIZA'sabilitiesevenafterthe\\nprogram'soperationwasexplainedtothem\\n(Weizenbaum,1976)\\n,andeventoday\\nsuch\\nchatbots\\nareafundiversion.\\nchatbots\\nOfcoursemodernconversationalagentsaremuchmorethanadiversion;they\\ncananswerquestions,bookorrestaurants,functionsforwhichtheyrely\\nonamuchmoresophisticatedunderstandingoftheuser'sintent,aswewillseein\\nChapter26.Nonetheless,thesimplepattern-basedmethodsthatpoweredELIZA\\nandotherchatbotsplayacrucialroleinnaturallanguageprocessing.\\nWe'llbeginwiththemostimportanttoolfordescribingtextpatterns:the\\nregular\\nexpression\\n.Regularexpressionscanbeusedtospecifystringswemightwantto\\nextractfromadocument,fromtransformingﬁIneedXﬂinElizaabove,to\\nstringslike\\n$\\n199\\nor\\n$\\n24.99\\nforextractingtablesofpricesfromadocument.\\nWe'llthenturntoasetoftaskscollectivelycalled\\ntextnormalization\\n,inwhich\\ntext\\nnormalization\\nregularexpressionsplayanimportantpart.Normalizingtextmeansconvertingit\\ntoamoreconvenient,standardform.Forexample,mostofwhatwearegoingto\\ndowithlanguagereliesonseparatingoutor\\ntokenizing\\nwordsfromrunning\\ntext,thetaskof\\ntokenization\\n.Englishwordsareoftenseparatedfromeachother\\ntokenization\\nbywhitespace,butwhitespaceisnotalwayssuf\\nNewYork\\nand\\nrock'n'roll\\naresometimestreatedaslargewordsdespitethefactthattheycontainspaces,while\\nsometimeswe'llneedtoseparate\\nI'm\\nintothetwowords\\nI\\nand\\nam\\n.Forprocessing\\ntweetsortextswe'llneedtotokenize\\nemoticons\\nlike\\n:)\\nor\\nhashtags\\nlike\\n#nlproc\\n.\\n\""
      ]
     },
     "execution_count": 199,
     "metadata": {},
     "output_type": "execute_result"
    }
   ],
   "source": [
    "page_1.extractText()"
   ]
  },
  {
   "cell_type": "code",
   "execution_count": 200,
   "metadata": {},
   "outputs": [
    {
     "name": "stdout",
     "output_type": "stream",
     "text": [
      "SpeechandLanguageProcessing.DanielJurafsky&JamesH.Martin.Copyright\n",
      "c\n",
      "\n",
      "2019.All\n",
      "rightsreserved.DraftofOctober2,2019.\n",
      "CHAPTER\n",
      "2\n",
      "RegularExpressions,Text\n",
      "Normalization,EditDistance\n",
      "User:Iamunhappy.\n",
      "ELIZA:DOYOUTHINKCOMINGHEREWILLHELPYOUNOTTOBEUNHAPPY\n",
      "User:Ineedsomehelp,thatmuchseemscertain.\n",
      "ELIZA:WHATWOULDITMEANTOYOUIFYOUGOTSOMEHELP\n",
      "User:PerhapsIcouldlearntogetalongwithmymother.\n",
      "ELIZA:TELLMEMOREABOUTYOURFAMILY\n",
      "User:Mymothertakescareofme.\n",
      "ELIZA:WHOELSEINYOUFAMILYTAKESCAREOFYOU\n",
      "User:Myfather.\n",
      "ELIZA:YOURFATHER\n",
      "User:Youarelikemyfatherinsomeways.\n",
      "Weizenbaum(1966)\n",
      "Thedialogueaboveisfrom\n",
      "ELIZA\n",
      ",anearlynaturallanguageprocessingsystem\n",
      "ELIZA\n",
      "thatcouldcarryonalimitedconversationwithauserbyimitatingtheresponsesof\n",
      "aRogerianpsychotherapist\n",
      "(Weizenbaum,1966)\n",
      ".ELIZAisasurprisinglysimple\n",
      "programthatusespatternmatchingtorecognizephraseslikeﬁIneedXﬂandtranslate\n",
      "themintosuitableoutputslikeﬁWhatwoulditmeantoyouifyougotX?ﬂ.This\n",
      "simpletechniquesucceedsinthisdomainbecauseELIZAdoesn'tactuallyneedto\n",
      "know\n",
      "anythingtomimicaRogerianpsychotherapist.AsWeizenbaumnotes,thisis\n",
      "oneofthefewdialoguegenreswherelistenerscanactasiftheyknownothingofthe\n",
      "world.Eliza'smimicryofhumanconversationwasremarkablysuccessful:many\n",
      "peoplewhointeractedwithELIZAcametobelievethatitreally\n",
      "understood\n",
      "them\n",
      "andtheirproblems,manycontinuedtobelieveinELIZA'sabilitiesevenafterthe\n",
      "program'soperationwasexplainedtothem\n",
      "(Weizenbaum,1976)\n",
      ",andeventoday\n",
      "such\n",
      "chatbots\n",
      "areafundiversion.\n",
      "chatbots\n",
      "Ofcoursemodernconversationalagentsaremuchmorethanadiversion;they\n",
      "cananswerquestions,bookorrestaurants,functionsforwhichtheyrely\n",
      "onamuchmoresophisticatedunderstandingoftheuser'sintent,aswewillseein\n",
      "Chapter26.Nonetheless,thesimplepattern-basedmethodsthatpoweredELIZA\n",
      "andotherchatbotsplayacrucialroleinnaturallanguageprocessing.\n",
      "We'llbeginwiththemostimportanttoolfordescribingtextpatterns:the\n",
      "regular\n",
      "expression\n",
      ".Regularexpressionscanbeusedtospecifystringswemightwantto\n",
      "extractfromadocument,fromtransformingﬁIneedXﬂinElizaabove,to\n",
      "stringslike\n",
      "$\n",
      "199\n",
      "or\n",
      "$\n",
      "24.99\n",
      "forextractingtablesofpricesfromadocument.\n",
      "We'llthenturntoasetoftaskscollectivelycalled\n",
      "textnormalization\n",
      ",inwhich\n",
      "text\n",
      "normalization\n",
      "regularexpressionsplayanimportantpart.Normalizingtextmeansconvertingit\n",
      "toamoreconvenient,standardform.Forexample,mostofwhatwearegoingto\n",
      "dowithlanguagereliesonseparatingoutor\n",
      "tokenizing\n",
      "wordsfromrunning\n",
      "text,thetaskof\n",
      "tokenization\n",
      ".Englishwordsareoftenseparatedfromeachother\n",
      "tokenization\n",
      "bywhitespace,butwhitespaceisnotalwayssuf\n",
      "NewYork\n",
      "and\n",
      "rock'n'roll\n",
      "aresometimestreatedaslargewordsdespitethefactthattheycontainspaces,while\n",
      "sometimeswe'llneedtoseparate\n",
      "I'm\n",
      "intothetwowords\n",
      "I\n",
      "and\n",
      "am\n",
      ".Forprocessing\n",
      "tweetsortextswe'llneedtotokenize\n",
      "emoticons\n",
      "like\n",
      ":)\n",
      "or\n",
      "hashtags\n",
      "like\n",
      "#nlproc\n",
      ".\n",
      "\n"
     ]
    }
   ],
   "source": [
    "print(page_1.extractText())"
   ]
  },
  {
   "cell_type": "code",
   "execution_count": null,
   "metadata": {},
   "outputs": [],
   "source": []
  }
 ],
 "metadata": {
  "kernelspec": {
   "display_name": "Python 3",
   "language": "python",
   "name": "python3"
  },
  "language_info": {
   "codemirror_mode": {
    "name": "ipython",
    "version": 3
   },
   "file_extension": ".py",
   "mimetype": "text/x-python",
   "name": "python",
   "nbconvert_exporter": "python",
   "pygments_lexer": "ipython3",
   "version": "3.7.3"
  }
 },
 "nbformat": 4,
 "nbformat_minor": 4
}
